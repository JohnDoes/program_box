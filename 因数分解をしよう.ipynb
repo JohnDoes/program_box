{
  "nbformat": 4,
  "nbformat_minor": 0,
  "metadata": {
    "colab": {
      "name": "因数分解をしよう.ipynb",
      "provenance": [],
      "authorship_tag": "ABX9TyO5pFwiexbC/fYJpQ0UBnYL",
      "include_colab_link": true
    },
    "kernelspec": {
      "name": "python3",
      "display_name": "Python 3"
    },
    "language_info": {
      "name": "python"
    },
    "widgets": {
      "application/vnd.jupyter.widget-state+json": {
        "215ab8e9d81245eb977c5e3f93b76577": {
          "model_module": "@jupyter-widgets/controls",
          "model_name": "ButtonModel",
          "model_module_version": "1.5.0",
          "state": {
            "_dom_classes": [],
            "_model_module": "@jupyter-widgets/controls",
            "_model_module_version": "1.5.0",
            "_model_name": "ButtonModel",
            "_view_count": null,
            "_view_module": "@jupyter-widgets/controls",
            "_view_module_version": "1.5.0",
            "_view_name": "ButtonView",
            "button_style": "",
            "description": "答えを見る",
            "disabled": true,
            "icon": "",
            "layout": "IPY_MODEL_b119cf964ab349fb9853bfbf7c989410",
            "style": "IPY_MODEL_24a7d8e15eac4c6e9c18fcba32c1f9dc",
            "tooltip": ""
          }
        },
        "b119cf964ab349fb9853bfbf7c989410": {
          "model_module": "@jupyter-widgets/base",
          "model_name": "LayoutModel",
          "model_module_version": "1.2.0",
          "state": {
            "_model_module": "@jupyter-widgets/base",
            "_model_module_version": "1.2.0",
            "_model_name": "LayoutModel",
            "_view_count": null,
            "_view_module": "@jupyter-widgets/base",
            "_view_module_version": "1.2.0",
            "_view_name": "LayoutView",
            "align_content": null,
            "align_items": null,
            "align_self": null,
            "border": null,
            "bottom": null,
            "display": null,
            "flex": null,
            "flex_flow": null,
            "grid_area": null,
            "grid_auto_columns": null,
            "grid_auto_flow": null,
            "grid_auto_rows": null,
            "grid_column": null,
            "grid_gap": null,
            "grid_row": null,
            "grid_template_areas": null,
            "grid_template_columns": null,
            "grid_template_rows": null,
            "height": null,
            "justify_content": null,
            "justify_items": null,
            "left": null,
            "margin": null,
            "max_height": null,
            "max_width": null,
            "min_height": null,
            "min_width": null,
            "object_fit": null,
            "object_position": null,
            "order": null,
            "overflow": null,
            "overflow_x": null,
            "overflow_y": null,
            "padding": null,
            "right": null,
            "top": null,
            "visibility": null,
            "width": null
          }
        },
        "24a7d8e15eac4c6e9c18fcba32c1f9dc": {
          "model_module": "@jupyter-widgets/controls",
          "model_name": "ButtonStyleModel",
          "model_module_version": "1.5.0",
          "state": {
            "_model_module": "@jupyter-widgets/controls",
            "_model_module_version": "1.5.0",
            "_model_name": "ButtonStyleModel",
            "_view_count": null,
            "_view_module": "@jupyter-widgets/base",
            "_view_module_version": "1.2.0",
            "_view_name": "StyleView",
            "button_color": null,
            "font_weight": ""
          }
        },
        "951b7594882b4e9d9acd5c25934134d6": {
          "model_module": "@jupyter-widgets/controls",
          "model_name": "ButtonModel",
          "model_module_version": "1.5.0",
          "state": {
            "_dom_classes": [],
            "_model_module": "@jupyter-widgets/controls",
            "_model_module_version": "1.5.0",
            "_model_name": "ButtonModel",
            "_view_count": null,
            "_view_module": "@jupyter-widgets/controls",
            "_view_module_version": "1.5.0",
            "_view_name": "ButtonView",
            "button_style": "",
            "description": "答えを見る",
            "disabled": true,
            "icon": "",
            "layout": "IPY_MODEL_aca5dc091be34d42a6af5637705e04cd",
            "style": "IPY_MODEL_81e614d250bd484ba18acaa34c1fd7d7",
            "tooltip": ""
          }
        },
        "aca5dc091be34d42a6af5637705e04cd": {
          "model_module": "@jupyter-widgets/base",
          "model_name": "LayoutModel",
          "model_module_version": "1.2.0",
          "state": {
            "_model_module": "@jupyter-widgets/base",
            "_model_module_version": "1.2.0",
            "_model_name": "LayoutModel",
            "_view_count": null,
            "_view_module": "@jupyter-widgets/base",
            "_view_module_version": "1.2.0",
            "_view_name": "LayoutView",
            "align_content": null,
            "align_items": null,
            "align_self": null,
            "border": null,
            "bottom": null,
            "display": null,
            "flex": null,
            "flex_flow": null,
            "grid_area": null,
            "grid_auto_columns": null,
            "grid_auto_flow": null,
            "grid_auto_rows": null,
            "grid_column": null,
            "grid_gap": null,
            "grid_row": null,
            "grid_template_areas": null,
            "grid_template_columns": null,
            "grid_template_rows": null,
            "height": null,
            "justify_content": null,
            "justify_items": null,
            "left": null,
            "margin": null,
            "max_height": null,
            "max_width": null,
            "min_height": null,
            "min_width": null,
            "object_fit": null,
            "object_position": null,
            "order": null,
            "overflow": null,
            "overflow_x": null,
            "overflow_y": null,
            "padding": null,
            "right": null,
            "top": null,
            "visibility": null,
            "width": null
          }
        },
        "81e614d250bd484ba18acaa34c1fd7d7": {
          "model_module": "@jupyter-widgets/controls",
          "model_name": "ButtonStyleModel",
          "model_module_version": "1.5.0",
          "state": {
            "_model_module": "@jupyter-widgets/controls",
            "_model_module_version": "1.5.0",
            "_model_name": "ButtonStyleModel",
            "_view_count": null,
            "_view_module": "@jupyter-widgets/base",
            "_view_module_version": "1.2.0",
            "_view_name": "StyleView",
            "button_color": null,
            "font_weight": ""
          }
        },
        "cd306194e0bd451b8e6139330ed0902d": {
          "model_module": "@jupyter-widgets/controls",
          "model_name": "ButtonModel",
          "model_module_version": "1.5.0",
          "state": {
            "_dom_classes": [],
            "_model_module": "@jupyter-widgets/controls",
            "_model_module_version": "1.5.0",
            "_model_name": "ButtonModel",
            "_view_count": null,
            "_view_module": "@jupyter-widgets/controls",
            "_view_module_version": "1.5.0",
            "_view_name": "ButtonView",
            "button_style": "",
            "description": "答えを見る",
            "disabled": true,
            "icon": "",
            "layout": "IPY_MODEL_b402c802763f416884c099988f193ff3",
            "style": "IPY_MODEL_ae392e1ca181451ca3057ed6accddfa4",
            "tooltip": ""
          }
        },
        "b402c802763f416884c099988f193ff3": {
          "model_module": "@jupyter-widgets/base",
          "model_name": "LayoutModel",
          "model_module_version": "1.2.0",
          "state": {
            "_model_module": "@jupyter-widgets/base",
            "_model_module_version": "1.2.0",
            "_model_name": "LayoutModel",
            "_view_count": null,
            "_view_module": "@jupyter-widgets/base",
            "_view_module_version": "1.2.0",
            "_view_name": "LayoutView",
            "align_content": null,
            "align_items": null,
            "align_self": null,
            "border": null,
            "bottom": null,
            "display": null,
            "flex": null,
            "flex_flow": null,
            "grid_area": null,
            "grid_auto_columns": null,
            "grid_auto_flow": null,
            "grid_auto_rows": null,
            "grid_column": null,
            "grid_gap": null,
            "grid_row": null,
            "grid_template_areas": null,
            "grid_template_columns": null,
            "grid_template_rows": null,
            "height": null,
            "justify_content": null,
            "justify_items": null,
            "left": null,
            "margin": null,
            "max_height": null,
            "max_width": null,
            "min_height": null,
            "min_width": null,
            "object_fit": null,
            "object_position": null,
            "order": null,
            "overflow": null,
            "overflow_x": null,
            "overflow_y": null,
            "padding": null,
            "right": null,
            "top": null,
            "visibility": null,
            "width": null
          }
        },
        "ae392e1ca181451ca3057ed6accddfa4": {
          "model_module": "@jupyter-widgets/controls",
          "model_name": "ButtonStyleModel",
          "model_module_version": "1.5.0",
          "state": {
            "_model_module": "@jupyter-widgets/controls",
            "_model_module_version": "1.5.0",
            "_model_name": "ButtonStyleModel",
            "_view_count": null,
            "_view_module": "@jupyter-widgets/base",
            "_view_module_version": "1.2.0",
            "_view_name": "StyleView",
            "button_color": null,
            "font_weight": ""
          }
        },
        "1a8482d3f85440d4a009ad199fe3a628": {
          "model_module": "@jupyter-widgets/controls",
          "model_name": "ButtonModel",
          "model_module_version": "1.5.0",
          "state": {
            "_dom_classes": [],
            "_model_module": "@jupyter-widgets/controls",
            "_model_module_version": "1.5.0",
            "_model_name": "ButtonModel",
            "_view_count": null,
            "_view_module": "@jupyter-widgets/controls",
            "_view_module_version": "1.5.0",
            "_view_name": "ButtonView",
            "button_style": "",
            "description": "答えを見る",
            "disabled": true,
            "icon": "",
            "layout": "IPY_MODEL_3682b602d987443691189f0a53a42e2c",
            "style": "IPY_MODEL_8625a31a747146bd9a379101b6b0def7",
            "tooltip": ""
          }
        },
        "3682b602d987443691189f0a53a42e2c": {
          "model_module": "@jupyter-widgets/base",
          "model_name": "LayoutModel",
          "model_module_version": "1.2.0",
          "state": {
            "_model_module": "@jupyter-widgets/base",
            "_model_module_version": "1.2.0",
            "_model_name": "LayoutModel",
            "_view_count": null,
            "_view_module": "@jupyter-widgets/base",
            "_view_module_version": "1.2.0",
            "_view_name": "LayoutView",
            "align_content": null,
            "align_items": null,
            "align_self": null,
            "border": null,
            "bottom": null,
            "display": null,
            "flex": null,
            "flex_flow": null,
            "grid_area": null,
            "grid_auto_columns": null,
            "grid_auto_flow": null,
            "grid_auto_rows": null,
            "grid_column": null,
            "grid_gap": null,
            "grid_row": null,
            "grid_template_areas": null,
            "grid_template_columns": null,
            "grid_template_rows": null,
            "height": null,
            "justify_content": null,
            "justify_items": null,
            "left": null,
            "margin": null,
            "max_height": null,
            "max_width": null,
            "min_height": null,
            "min_width": null,
            "object_fit": null,
            "object_position": null,
            "order": null,
            "overflow": null,
            "overflow_x": null,
            "overflow_y": null,
            "padding": null,
            "right": null,
            "top": null,
            "visibility": null,
            "width": null
          }
        },
        "8625a31a747146bd9a379101b6b0def7": {
          "model_module": "@jupyter-widgets/controls",
          "model_name": "ButtonStyleModel",
          "model_module_version": "1.5.0",
          "state": {
            "_model_module": "@jupyter-widgets/controls",
            "_model_module_version": "1.5.0",
            "_model_name": "ButtonStyleModel",
            "_view_count": null,
            "_view_module": "@jupyter-widgets/base",
            "_view_module_version": "1.2.0",
            "_view_name": "StyleView",
            "button_color": null,
            "font_weight": ""
          }
        }
      }
    }
  },
  "cells": [
    {
      "cell_type": "markdown",
      "metadata": {
        "id": "view-in-github",
        "colab_type": "text"
      },
      "source": [
        "<a href=\"https://colab.research.google.com/github/JohnDoes/program_box/blob/master/%E5%9B%A0%E6%95%B0%E5%88%86%E8%A7%A3%E3%82%92%E3%81%97%E3%82%88%E3%81%86.ipynb\" target=\"_parent\"><img src=\"https://colab.research.google.com/assets/colab-badge.svg\" alt=\"Open In Colab\"/></a>"
      ]
    },
    {
      "cell_type": "markdown",
      "source": [
        "# 因数分解をしてみよう！\n",
        "\n",
        "> 遊び方\n",
        "\n",
        "セルの左上の再生マークを押すと、新しい問題が出題されるよ！\n",
        "\n",
        "「答えをみる」ボタンを押すと解答例が表示されるよ！\n",
        "\n",
        "問題を解いて、解答を確認しよう！\n",
        "\n",
        "\n",
        "\n",
        "\n",
        "> 4つのレベル別問題\n",
        "\n",
        "\n",
        "*   レベル1：中学基本レベル\n",
        "*   レベル2：高校基本レベル\n",
        "*   レベル3：高校標準レベル\n",
        "*   レベル4：まあ日常にはいらないな・・・レベル\n",
        "\n",
        "\n",
        "**目指せ、全レベル制覇！！**\n"
      ],
      "metadata": {
        "id": "eFcP_tl2izd3"
      }
    },
    {
      "cell_type": "code",
      "execution_count": 189,
      "metadata": {
        "colab": {
          "base_uri": "https://localhost:8080/",
          "height": 212,
          "referenced_widgets": [
            "215ab8e9d81245eb977c5e3f93b76577",
            "b119cf964ab349fb9853bfbf7c989410",
            "24a7d8e15eac4c6e9c18fcba32c1f9dc"
          ]
        },
        "cellView": "form",
        "id": "wno1iHTk2Ur9",
        "outputId": "4b51a3ee-4a0d-4bde-cf7c-ff54369f598b"
      },
      "outputs": [
        {
          "output_type": "display_data",
          "data": {
            "text/plain": [
              "<IPython.core.display.HTML object>"
            ],
            "text/html": [
              "<div>\n",
              "  <h1>レベル1</h1>\n",
              "  <p>以下の関数を因数分解せよ！</p>\n",
              "</div>\n"
            ]
          },
          "metadata": {}
        },
        {
          "output_type": "display_data",
          "data": {
            "text/plain": [
              "   2           \n",
              "9⋅a  + 12⋅a + 4"
            ],
            "image/png": "[encoded data removed]",
            "text/latex": "$\\displaystyle 9 a^{2} + 12 a + 4$"
          },
          "metadata": {}
        },
        {
          "output_type": "stream",
          "name": "stdout",
          "text": [
            "\n",
            "\n"
          ]
        },
        {
          "output_type": "display_data",
          "data": {
            "text/plain": [
              "Button(description='答えを見る', style=ButtonStyle())"
            ],
            "application/vnd.jupyter.widget-view+json": {
              "version_major": 2,
              "version_minor": 0,
              "model_id": "215ab8e9d81245eb977c5e3f93b76577"
            }
          },
          "metadata": {}
        },
        {
          "output_type": "display_data",
          "data": {
            "text/plain": [
              "         2\n",
              "(3⋅a + 2) "
            ],
            "image/png": "[encoded data removed]",
            "text/latex": "$\\displaystyle \\left(3 a + 2\\right)^{2}$"
          },
          "metadata": {}
        }
      ],
      "source": [
        "#@title\n",
        "# coding: utf-8\n",
        "# Your code here!\n",
        "\n",
        "# インポート\n",
        "import sympy, random, IPython\n",
        "from IPython.display import display, HTML\n",
        "from ipywidgets import Button\n",
        "from datetime import datetime\n",
        "\n",
        "# 文字を定義\n",
        "sympy.var('a b c d e')\n",
        "\n",
        "#数字の候補を準備\n",
        "num_l1 = []\n",
        "num_l1_el = 0\n",
        "for i in range(10):\n",
        "    num_l1_el = random.randint(0, 10) - 5\n",
        "    while num_l1_el == 0:\n",
        "      num_l1_el = random.randint(0, 10) - 5\n",
        "    num_l1.append(num_l1_el)\n",
        "\n",
        "#ck\n",
        "#print(num)\n",
        "\n",
        "#出題パターンを準備\n",
        "fun_con_l1 = [\n",
        "          [[num_l1[0]*a], \n",
        "           [num_l1[1]*a+num_l1[2]]\n",
        "          ], \n",
        "          [[num_l1[0]*a + num_l1[1]],\n",
        "           [num_l1[0]*a + num_l1[1]]\n",
        "          ],\n",
        "          [[num_l1[0]*a + num_l1[1]],\n",
        "           [num_l1[0]*a - num_l1[1]]\n",
        "          ],\n",
        "          [[num_l1[0]*a + num_l1[1]],\n",
        "           [num_l1[0]*a + num_l1[2]]\n",
        "          ]\n",
        "        ]\n",
        "\n",
        "\n",
        "#出題パターンをランダム選択\n",
        "mode_l1 = random.randint(0, 3)\n",
        "\n",
        "# 多項式を定義\n",
        "f1_l1 = fun_con_l1[mode_l1][0]\n",
        "f2_l1 = fun_con_l1[mode_l1][1]\n",
        "\n",
        "#print(f1, f2)\n",
        "\n",
        "# 多項式の積\n",
        "mul_l1 = f1_l1[0] * f2_l1[0]\n",
        "ex_mul_l1 = sympy.expand(mul_l1)\n",
        "\n",
        "# LaTeXで数式を表示\n",
        "sympy.init_printing()\n",
        "\n",
        "htm_l1 = HTML('''\\\n",
        "<div>\n",
        "  <h1>レベル1</h1>\n",
        "  <p>以下の関数を因数分解せよ！</p>\n",
        "</div>\n",
        "''')\n",
        "\n",
        "#HTML表示\n",
        "display(htm_l1)\n",
        "#問題表示\n",
        "display(ex_mul_l1)\n",
        "\n",
        "print(\"\\n\")\n",
        "\n",
        "#解答準備\n",
        "ex_ans_l1 = sympy.factor(ex_mul_l1)\n",
        "\n",
        "btn_l1 = Button(description='答えを見る')\n",
        "\n",
        "def on_btn_l1_click(btn):\n",
        "  display(ex_ans_l1)\n",
        "  btn_l1.disabled = True\n",
        "\n",
        "btn_l1.on_click(on_btn_l1_click)\n",
        "btn_l1\n",
        "\n"
      ]
    },
    {
      "cell_type": "code",
      "source": [
        "#@title\n",
        "# coding: utf-8\n",
        "# Your code here!\n",
        "\n",
        "# インポート\n",
        "import sympy, random, IPython\n",
        "from IPython.display import display, HTML\n",
        "from ipywidgets import Button\n",
        "from datetime import datetime\n",
        "\n",
        "# 文字を定義\n",
        "sympy.var('a b c d e')\n",
        "\n",
        "#数字の候補を準備\n",
        "num_l2 = []\n",
        "num_l2_el = 0\n",
        "for i in range(10):\n",
        "    num_l2_el = random.randint(0, 10) - 5\n",
        "    while num_l2_el == 0:\n",
        "      num_l2_el = random.randint(0, 10) - 5\n",
        "    num_l2.append(num_l2_el)\n",
        "\n",
        "#ck\n",
        "#print(num)\n",
        "\n",
        "#出題パターンを準備\n",
        "fun_con_l2 = [\n",
        "          [[num_l2[0]*a+num_l2[1]], \n",
        "           [num_l2[0]*num_l2[0]*a**2 - num_l2[0]*num_l2[1]*a + num_l2[1]*num_l2[1]]\n",
        "          ], \n",
        "          [[num_l2[0]*a + num_l2[1]],\n",
        "           [num_l2[0]*a + num_l2[1]],\n",
        "           [num_l2[0]*a + num_l2[1]]\n",
        "          ],\n",
        "          [[num_l2[0]*a + num_l2[1]*b],\n",
        "           [num_l2[0]*a + num_l2[1]*b],\n",
        "           [num_l2[0]*a + num_l2[1]*b]\n",
        "          ],\n",
        "          [[num_l2[0]*a + num_l2[1]],\n",
        "           [num_l2[2]*a + num_l2[3]]\n",
        "          ],\n",
        "          [[num_l2[0]*a + num_l2[1]],\n",
        "           [num_l2[2]*b + num_l2[3]]\n",
        "          ]\n",
        "        ]\n",
        "\n",
        "#出題パターンをランダム選択\n",
        "mode_l2 = random.randint(0, 4)\n",
        "\n",
        "# 多項式を定義,積\n",
        "mul_l2 = 1\n",
        "for i in range(len(fun_con_l2[mode_l2])):\n",
        "  fun_l2 = fun_con_l2[mode_l2][i]\n",
        "  mul_l2 = sympy.expand(mul_l2 * fun_l2[0])\n",
        "ex_mul_l2 = mul_l2\n",
        "\n",
        "# LaTeXで数式を表示\n",
        "sympy.init_printing()\n",
        "\n",
        "htm_l2 = HTML('''\\\n",
        "<div>\n",
        "  <h1>レベル2</h1>\n",
        "  <p>以下の関数を因数分解せよ！</p>\n",
        "</div>\n",
        "''')\n",
        "\n",
        "#HTML表示\n",
        "display(htm_l2)\n",
        "#問題表示\n",
        "display(ex_mul_l2)\n",
        "\n",
        "print(\"\\n\")\n",
        "\n",
        "#解答準備\n",
        "ex_ans_l2 = sympy.factor(ex_mul_l2)\n",
        "\n",
        "btn_l2 = Button(description='答えを見る')\n",
        "\n",
        "def on_btn_l2_click(btn):\n",
        "\n",
        "  display(ex_ans_l2)\n",
        "  btn_l2.disabled = True\n",
        "\n",
        "btn_l2.on_click(on_btn_l2_click)\n",
        "btn_l2\n",
        "\n"
      ],
      "metadata": {
        "colab": {
          "base_uri": "https://localhost:8080/",
          "height": 211,
          "referenced_widgets": [
            "951b7594882b4e9d9acd5c25934134d6",
            "aca5dc091be34d42a6af5637705e04cd",
            "81e614d250bd484ba18acaa34c1fd7d7"
          ]
        },
        "cellView": "form",
        "id": "mNdrQ5F6Gi84",
        "outputId": "0cb8dd6e-6027-4a24-9ad0-e9f016c46806"
      },
      "execution_count": 195,
      "outputs": [
        {
          "output_type": "display_data",
          "data": {
            "text/plain": [
              "<IPython.core.display.HTML object>"
            ],
            "text/html": [
              "<div>\n",
              "  <h1>レベル2</h1>\n",
              "  <p>以下の関数を因数分解せよ！</p>\n",
              "</div>\n"
            ]
          },
          "metadata": {}
        },
        {
          "output_type": "display_data",
          "data": {
            "text/plain": [
              "       3     \n",
              "- 125⋅a  - 27"
            ],
            "image/png": "[encoded data removed]",
            "text/latex": "$\\displaystyle - 125 a^{3} - 27$"
          },
          "metadata": {}
        },
        {
          "output_type": "stream",
          "name": "stdout",
          "text": [
            "\n",
            "\n"
          ]
        },
        {
          "output_type": "display_data",
          "data": {
            "text/plain": [
              "Button(description='答えを見る', style=ButtonStyle())"
            ],
            "application/vnd.jupyter.widget-view+json": {
              "version_major": 2,
              "version_minor": 0,
              "model_id": "951b7594882b4e9d9acd5c25934134d6"
            }
          },
          "metadata": {}
        },
        {
          "output_type": "display_data",
          "data": {
            "text/plain": [
              "           ⎛    2           ⎞\n",
              "-(5⋅a + 3)⋅⎝25⋅a  - 15⋅a + 9⎠"
            ],
            "image/png": "[encoded data removed]",
            "text/latex": "$\\displaystyle - \\left(5 a + 3\\right) \\left(25 a^{2} - 15 a + 9\\right)$"
          },
          "metadata": {}
        }
      ]
    },
    {
      "cell_type": "code",
      "source": [
        "#@title\n",
        "# coding: utf-8\n",
        "# Your code here!\n",
        "\n",
        "# インポート\n",
        "import sympy, random, IPython\n",
        "from IPython.display import display, HTML\n",
        "from ipywidgets import Button\n",
        "from datetime import datetime\n",
        "\n",
        "# 文字を定義\n",
        "sympy.var('a b c d e')\n",
        "\n",
        "#数字の候補を準備\n",
        "num_l3 = []\n",
        "num_l3_el = 0\n",
        "for i in range(10):\n",
        "    num_l3_el = random.randint(0, 6) - 3\n",
        "    while num_l3_el == 0:\n",
        "      num_l3_el = random.randint(0, 6) - 3\n",
        "    num_l3.append(num_l3_el)\n",
        "\n",
        "fun_mod_l3 = [\n",
        "     [a + num_l3[8] * b],\n",
        "     [a + num_l3[9] * b],\n",
        "     [a**2]\n",
        "    ]\n",
        "\n",
        "fun_ch_l3 = random.randint(0,11)\n",
        "fun_modch1_l3 = random.randint(0,2)\n",
        "fun_modch2_l3 = random.randint(0,2)\n",
        "while fun_modch2_l3 == fun_modch1_l3:\n",
        "  fun_modch2_l3 = random.randint(0,2)\n",
        "  break\n",
        "\n",
        "rep_fun_l3 = [\n",
        "          [[num_l3[0]*fun_mod_l3[fun_modch1_l3][0]], \n",
        "           [num_l3[1]*fun_mod_l3[fun_modch1_l3][0]+num_l3[2]]\n",
        "          ], \n",
        "          [[num_l3[0]*fun_mod_l3[fun_modch1_l3][0] + num_l3[1]],\n",
        "           [num_l3[0]*fun_mod_l3[fun_modch1_l3][0] + num_l3[1]]\n",
        "          ],\n",
        "          [[num_l3[0]*fun_mod_l3[fun_modch1_l3][0] + num_l3[1]],\n",
        "           [num_l3[0]*fun_mod_l3[fun_modch1_l3][0] - num_l3[1]]\n",
        "          ],\n",
        "          [[num_l3[0]*fun_mod_l3[fun_modch1_l3][0] + num_l3[1]],\n",
        "           [num_l3[0]*fun_mod_l3[fun_modch1_l3][0] + num_l3[2]]\n",
        "          ],\n",
        "          [[num_l3[0]*fun_mod_l3[fun_modch1_l3][0] + num_l3[1]],\n",
        "           [num_l3[2]*fun_mod_l3[fun_modch1_l3][0] + num_l3[3]]\n",
        "          ],\n",
        "          [[num_l3[0]*fun_mod_l3[fun_modch1_l3][0] + num_l3[1]],\n",
        "           [num_l3[2]*fun_mod_l3[fun_modch2_l3][0] + num_l3[3]]\n",
        "          ],\n",
        "          [[num_l3[0]*fun_mod_l3[fun_modch1_l3][0]], \n",
        "           [num_l3[1]*fun_mod_l3[fun_modch1_l3][0]+num_l3[2] *c]\n",
        "          ], \n",
        "          [[num_l3[0]*fun_mod_l3[fun_modch1_l3][0] + num_l3[1]*c],\n",
        "           [num_l3[0]*fun_mod_l3[fun_modch1_l3][0] + num_l3[1]*c]\n",
        "          ],\n",
        "          [[num_l3[0]*fun_mod_l3[fun_modch1_l3][0] + num_l3[1]*c],\n",
        "           [num_l3[0]*fun_mod_l3[fun_modch1_l3][0] - num_l3[1]*c]\n",
        "          ],\n",
        "          [[num_l3[0]*fun_mod_l3[fun_modch1_l3][0] + num_l3[1]*c],\n",
        "           [num_l3[0]*fun_mod_l3[fun_modch1_l3][0] + num_l3[2]*c]\n",
        "          ],\n",
        "          [[num_l3[0]*fun_mod_l3[fun_modch1_l3][0] + num_l3[1]*c],\n",
        "           [num_l3[2]*fun_mod_l3[fun_modch1_l3][0] + num_l3[3]*c]\n",
        "          ],\n",
        "          [[num_l3[0]*fun_mod_l3[fun_modch1_l3][0] + num_l3[1]*c],\n",
        "           [num_l3[2]*fun_mod_l3[fun_modch2_l3][0] + num_l3[3]*c]\n",
        "          ]\n",
        "        ]\n",
        "\n",
        "\n",
        "#出題パターンを準備\n",
        "fun_con_l3 = [\n",
        "          [[num_l3[0]*a + num_l3[1]*b + num_l3[2]],\n",
        "           [num_l3[0]*num_l3[0]*a**2 + num_l3[1]*num_l3[1]*b**2 + num_l3[2]*num_l3[2] - num_l3[0]*a*num_l3[1]*b - num_l3[1]*b*num_l3[2] - num_l3[2]*num_l3[0]*a]\n",
        "          ],\n",
        "          rep_fun_l3[fun_ch_l3],\n",
        "          [[num_l3[0] * a + num_l3[1] * b],\n",
        "           [num_l3[0] * a + num_l3[1] * b],\n",
        "           [num_l3[0] * a + num_l3[1] * b],\n",
        "           [num_l3[0] * a + num_l3[1] * b]\n",
        "          ],\n",
        "          [[num_l3[0] * a - num_l3[1] * b],\n",
        "           [num_l3[0]*num_l3[0]*num_l3[0] * a**3 + num_l3[0]*num_l3[0] * a**2 * num_l3[1] * b + num_l3[0] * a * num_l3[1]*num_l3[1] * b**2 + num_l3[1]*num_l3[1]*num_l3[1] * b**3]\n",
        "          ],\n",
        "          [[num_l3[0]*a + num_l3[1]*b],\n",
        "           [num_l3[1]*b + num_l3[2]*c],\n",
        "           [num_l3[2]*c + num_l3[0]*a]\n",
        "          ],\n",
        "          [[num_l3[0]*a + num_l3[1]],\n",
        "           [num_l3[0]*a + num_l3[2]],\n",
        "           [num_l3[0]*a + num_l3[3]]\n",
        "          ], \n",
        "          [[num_l3[0]*a + num_l3[1]*b + num_l3[2]*c],\n",
        "           [num_l3[0]*a + num_l3[1]*b + num_l3[2]*c]\n",
        "          ]\n",
        "        ]\n",
        "\n",
        "#出題パターンをランダム選択\n",
        "mode_l3 = random.randint(0, 6)\n",
        "\n",
        "# 多項式を定義,積\n",
        "mul_l3 = 1\n",
        "for i in range(len(fun_con_l3[mode_l3])):\n",
        "  fun_l3 = fun_con_l3[mode_l3][i]\n",
        "  mul_l3 = sympy.expand(mul_l3 * fun_l3[0])\n",
        "ex_mul_l3 = mul_l3\n",
        "\n",
        "# LaTeXで数式を表示\n",
        "sympy.init_printing()\n",
        "\n",
        "htm_l3 = HTML('''\\\n",
        "<div>\n",
        "  <h1>レベル3</h1>\n",
        "  <p>以下の関数を因数分解せよ！</p>\n",
        "</div>\n",
        "''')\n",
        "\n",
        "#HTML表示\n",
        "display(htm_l3)\n",
        "#問題表示\n",
        "display(ex_mul_l3)\n",
        "\n",
        "print(\"\\n\")\n",
        "\n",
        "#解答準備\n",
        "ex_ans_l3 = sympy.factor(ex_mul_l3)\n",
        "\n",
        "btn_l3 = Button(description='答えを見る')\n",
        "\n",
        "def on_btn_l3_click(btn):\n",
        "\n",
        "  display(ex_ans_l3)\n",
        "  btn_l3.disabled = True\n",
        "\n",
        "btn_l3.on_click(on_btn_l3_click)\n",
        "btn_l3\n",
        "\n"
      ],
      "metadata": {
        "colab": {
          "base_uri": "https://localhost:8080/",
          "height": 211,
          "referenced_widgets": [
            "cd306194e0bd451b8e6139330ed0902d",
            "b402c802763f416884c099988f193ff3",
            "ae392e1ca181451ca3057ed6accddfa4"
          ]
        },
        "cellView": "form",
        "id": "f5P68NoLb7L8",
        "outputId": "083ef45f-3384-4ceb-b61f-a684a5843494"
      },
      "execution_count": 201,
      "outputs": [
        {
          "output_type": "display_data",
          "data": {
            "text/plain": [
              "<IPython.core.display.HTML object>"
            ],
            "text/html": [
              "<div>\n",
              "  <h1>レベル3</h1>\n",
              "  <p>以下の関数を因数分解せよ！</p>\n",
              "</div>\n"
            ]
          },
          "metadata": {}
        },
        {
          "output_type": "display_data",
          "data": {
            "text/plain": [
              "      3               3    \n",
              "- 27⋅a  + 36⋅a⋅b - 8⋅b  - 8"
            ],
            "image/png": "[encoded data removed]",
            "text/latex": "$\\displaystyle - 27 a^{3} + 36 a b - 8 b^{3} - 8$"
          },
          "metadata": {}
        },
        {
          "output_type": "stream",
          "name": "stdout",
          "text": [
            "\n",
            "\n"
          ]
        },
        {
          "output_type": "display_data",
          "data": {
            "text/plain": [
              "Button(description='答えを見る', style=ButtonStyle())"
            ],
            "application/vnd.jupyter.widget-view+json": {
              "version_major": 2,
              "version_minor": 0,
              "model_id": "cd306194e0bd451b8e6139330ed0902d"
            }
          },
          "metadata": {}
        },
        {
          "output_type": "display_data",
          "data": {
            "text/plain": [
              "                 ⎛   2                    2          ⎞\n",
              "-(3⋅a + 2⋅b + 2)⋅⎝9⋅a  - 6⋅a⋅b - 6⋅a + 4⋅b  - 4⋅b + 4⎠"
            ],
            "image/png": "[encoded data removed]",
            "text/latex": "$\\displaystyle - \\left(3 a + 2 b + 2\\right) \\left(9 a^{2} - 6 a b - 6 a + 4 b^{2} - 4 b + 4\\right)$"
          },
          "metadata": {}
        }
      ]
    },
    {
      "cell_type": "code",
      "source": [
        "#@title\n",
        "# coding: utf-8\n",
        "# Your code here!\n",
        "\n",
        "# インポート\n",
        "import sympy, random, IPython\n",
        "from IPython.display import display, HTML\n",
        "from ipywidgets import Button\n",
        "from datetime import datetime\n",
        "\n",
        "# 文字を定義\n",
        "sympy.var('a b c d e')\n",
        "\n",
        "#数字の候補を準備\n",
        "num_l4 = []\n",
        "num_l4_el = 0\n",
        "for i in range(20):\n",
        "    num_l4_el = random.randint(0, 2) - 1\n",
        "    while num_l4_el == 0:\n",
        "      num_l4_el = random.randint(0, 2) - 1\n",
        "    num_l4.append(num_l4_el)\n",
        "\n",
        "for i in range(10):\n",
        "    num_l4_el = random.randint(0, 6) - 3\n",
        "    while num_l4_el == 0:\n",
        "      num_l4_el = random.randint(0, 6) - 3\n",
        "    num_l4.append(num_l4_el)\n",
        "\n",
        "fun_mod_l4 = [\n",
        "      [[num_l4[0]*a+num_l4[1]*b], \n",
        "       [num_l4[0]*num_l4[0]*a**2 - num_l4[0]*num_l4[1]*a*b + num_l4[1]*num_l4[1]*b**2]\n",
        "      ],\n",
        "      [[num_l4[2]*a + num_l4[3]*b],\n",
        "       [num_l4[2]*a + num_l4[3]*b]\n",
        "      ],\n",
        "      [[num_l4[4]*a + num_l4[5]*b],\n",
        "       [num_l4[4]*a - num_l4[5]*b]\n",
        "      ],          \n",
        "       [[num_l4[6]*a + num_l4[7]*b + num_l4[8]*c],\n",
        "        [num_l4[6]*num_l4[6]*a**2 + num_l4[7]*num_l4[7]*b**2 + num_l4[8]*num_l4[8]*c**2 - num_l4[6]*a*num_l4[7]*b - num_l4[7]*b*num_l4[8]*c - num_l4[8]*num_l4[6]*a*c]\n",
        "      ],\n",
        "      [[num_l4[9] * a - num_l4[10] * b],\n",
        "        [num_l4[9]*num_l4[9]*num_l4[9] * a**3 + num_l4[9]*num_l4[9] * a**2 * num_l4[10] * b + num_l4[9] * a * num_l4[10]*num_l4[10] * b**2 + num_l4[10]*num_l4[10]*num_l4[10] * b**3]\n",
        "      ], \n",
        "      [[num_l4[11]*a + num_l4[12]*b + num_l4[13]*c],\n",
        "       [num_l4[11]*a + num_l4[12]*b + num_l4[13]*c]\n",
        "      ], \n",
        "      [[num_l4[14]*a + num_l4[15]*b + num_l4[16]*c],\n",
        "       [num_l4[14]*a + num_l4[15]*b - num_l4[16]*c]\n",
        "      ]\n",
        "    ]\n",
        "\n",
        "fun_ch1_l4 = random.randint(0,6)\n",
        "# 多項式を定義,積\n",
        "mul1_l4 = 1\n",
        "for i in range(len(fun_mod_l4[fun_ch1_l4])):\n",
        "  mod1_l4 = fun_mod_l4[fun_ch1_l4][i]\n",
        "  mul1_l4 = sympy.expand(mul1_l4 * mod1_l4[0])\n",
        "  \n",
        "fun_ch2_l4 = random.randint(0,6)\n",
        "mul2_l4 = 1\n",
        "for i in range(len(fun_mod_l4[fun_ch2_l4])):\n",
        "  mod2_l4 = fun_mod_l4[fun_ch2_l4][i]\n",
        "  mul2_l4 = sympy.expand(mul2_l4 * mod2_l4[0])\n",
        "\n",
        "#出題パターンを準備\n",
        "fun_con_l4 = [\n",
        "          mul1_l4 * mul2_l4,\n",
        "          [[num_l4[3]*a + num_l4[4]*b],\n",
        "           [num_l4[4]*b + num_l4[5]*c],\n",
        "           [num_l4[5]*c + num_l4[6]*d],\n",
        "           [num_l4[6]*d + num_l4[7]*e],\n",
        "           [num_l4[7]*e + num_l4[3]*a],\n",
        "          ],\n",
        "          [[num_l4[3]*a + num_l4[21]*b],\n",
        "           [num_l4[3]*a + num_l4[22]*b],\n",
        "           [num_l4[3]*a + num_l4[23]*b],\n",
        "           [num_l4[3]*a + num_l4[24]*b],\n",
        "           [num_l4[3]*a + num_l4[25]*b],\n",
        "          ]\n",
        "        ]\n",
        "\n",
        "#出題パターンをランダム選択\n",
        "mode_l4 = random.randint(0,2)\n",
        "\n",
        "# 多項式を定義,積\n",
        "if mode_l4 == 0:\n",
        "  ex_mul_l4 = sympy.expand(fun_con_l4[mode_l4])\n",
        "else:\n",
        "  mul3_l4 = 1\n",
        "  for i in range(len(fun_con_l4[mode_l4])):\n",
        "    fun_l4 = fun_con_l4[mode_l4][i]\n",
        "    mul3_l4 = sympy.expand(mul3_l4 * fun_l4[0])\n",
        "  ex_mul_l4 = mul3_l4\n",
        "\n",
        "# LaTeXで数式を表示\n",
        "sympy.init_printing()\n",
        "\n",
        "htm_l4 = HTML('''\\\n",
        "<div>\n",
        "  <h1>レベル4</h1>\n",
        "  <p>以下の関数を因数分解できるものならやってみろ！</p>\n",
        "</div>\n",
        "''')\n",
        "\n",
        "#HTML表示\n",
        "display(htm_l4)\n",
        "#問題表示\n",
        "display(ex_mul_l4)\n",
        "\n",
        "print(\"\\n\")\n",
        "\n",
        "#解答準備\n",
        "ex_ans_l4 = sympy.factor(ex_mul_l4)\n",
        "\n",
        "btn_l4 = Button(description='答えを見る')\n",
        "\n",
        "def on_btn_l4_click(btn):\n",
        "\n",
        "  display(ex_ans_l4)\n",
        "  btn_l4.disabled = True\n",
        "\n",
        "btn_l4.on_click(on_btn_l4_click)\n",
        "btn_l4\n",
        "\n"
      ],
      "metadata": {
        "colab": {
          "base_uri": "https://localhost:8080/",
          "height": 233,
          "referenced_widgets": [
            "1a8482d3f85440d4a009ad199fe3a628",
            "3682b602d987443691189f0a53a42e2c",
            "8625a31a747146bd9a379101b6b0def7"
          ]
        },
        "cellView": "form",
        "id": "Ob0P7VDyyjs-",
        "outputId": "fc76acd4-53cc-4bf0-c8db-8b59b285659b"
      },
      "execution_count": 220,
      "outputs": [
        {
          "output_type": "display_data",
          "data": {
            "text/plain": [
              "<IPython.core.display.HTML object>"
            ],
            "text/html": [
              "<div>\n",
              "  <h1>レベル4</h1>\n",
              "  <p>以下の関数を因数分解できるものならやってみろ！</p>\n",
              "</div>\n"
            ]
          },
          "metadata": {}
        },
        {
          "output_type": "display_data",
          "data": {
            "text/plain": [
              " 2          2          2    2    2          2  2      2  2      2    2    2   \n",
              "a ⋅b⋅c⋅d - a ⋅b⋅c⋅e + a ⋅b⋅d  - a ⋅b⋅d⋅e - a ⋅c ⋅d + a ⋅c ⋅e - a ⋅c⋅d  + a ⋅c⋅\n",
              "\n",
              "         2          2          2  2      2            2          2            \n",
              "d⋅e - a⋅b ⋅c⋅d + a⋅b ⋅c⋅e - a⋅b ⋅d  + a⋅b ⋅d⋅e + a⋅b⋅c ⋅d - a⋅b⋅c ⋅e + a⋅b⋅c⋅d\n",
              "\n",
              "2                        2        2            2      2          2  2        2\n",
              "  - 2⋅a⋅b⋅c⋅d⋅e + a⋅b⋅c⋅e  - a⋅b⋅d ⋅e + a⋅b⋅d⋅e  + a⋅c ⋅d⋅e - a⋅c ⋅e  + a⋅c⋅d \n",
              "\n",
              "            2    2          2    2    2  2      2    2      2          2  2   \n",
              "⋅e - a⋅c⋅d⋅e  + b ⋅c⋅d⋅e - b ⋅c⋅e  + b ⋅d ⋅e - b ⋅d⋅e  - b⋅c ⋅d⋅e + b⋅c ⋅e  - \n",
              "\n",
              "     2            2\n",
              "b⋅c⋅d ⋅e + b⋅c⋅d⋅e "
            ],
            "image/png": "[encoded data removed]",
            "text/latex": "$\\displaystyle a^{2} b c d - a^{2} b c e + a^{2} b d^{2} - a^{2} b d e - a^{2} c^{2} d + a^{2} c^{2} e - a^{2} c d^{2} + a^{2} c d e - a b^{2} c d + a b^{2} c e - a b^{2} d^{2} + a b^{2} d e + a b c^{2} d - a b c^{2} e + a b c d^{2} - 2 a b c d e + a b c e^{2} - a b d^{2} e + a b d e^{2} + a c^{2} d e - a c^{2} e^{2} + a c d^{2} e - a c d e^{2} + b^{2} c d e - b^{2} c e^{2} + b^{2} d^{2} e - b^{2} d e^{2} - b c^{2} d e + b c^{2} e^{2} - b c d^{2} e + b c d e^{2}$"
          },
          "metadata": {}
        },
        {
          "output_type": "stream",
          "name": "stdout",
          "text": [
            "\n",
            "\n"
          ]
        },
        {
          "output_type": "display_data",
          "data": {
            "text/plain": [
              "Button(description='答えを見る', style=ButtonStyle())"
            ],
            "application/vnd.jupyter.widget-view+json": {
              "version_major": 2,
              "version_minor": 0,
              "model_id": "1a8482d3f85440d4a009ad199fe3a628"
            }
          },
          "metadata": {}
        },
        {
          "output_type": "display_data",
          "data": {
            "text/plain": [
              "(a - b)⋅(a - e)⋅(b - c)⋅(c + d)⋅(d - e)"
            ],
            "image/png": "[encoded data removed]",
            "text/latex": "$\\displaystyle \\left(a - b\\right) \\left(a - e\\right) \\left(b - c\\right) \\left(c + d\\right) \\left(d - e\\right)$"
          },
          "metadata": {}
        }
      ]
    }
  ]
}